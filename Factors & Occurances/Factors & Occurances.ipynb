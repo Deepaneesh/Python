{
 "cells": [
  {
   "cell_type": "code",
   "execution_count": 2,
   "id": "19acea4a-49e3-4627-b6ec-ca8bc45b543f",
   "metadata": {},
   "outputs": [
    {
     "name": "stdin",
     "output_type": "stream",
     "text": [
      " 30\n"
     ]
    },
    {
     "name": "stdout",
     "output_type": "stream",
     "text": [
      "{2: 1, 3: 1, 5: 1}\n",
      "[2, 3, 5] [1, 1, 1]\n",
      " In the number 30 , 2 Occurs 1  time\n",
      " In the number 30 , 3 Occurs 1  time\n",
      " In the number 30 , 5 Occurs 1  time\n"
     ]
    }
   ],
   "source": [
    "s=int(input())\n",
    "dic={}\n",
    "num=s\n",
    "for i in range(2,s+1):\n",
    "    while num%i==0:\n",
    "        if num%i==0:\n",
    "            num/=i\n",
    "            if i in dic :\n",
    "                dic[i]+=1\n",
    "            else:\n",
    "                dic[i]=1\n",
    "print(dic)\n",
    "k1=list(dic.keys())\n",
    "k2=list(dic.values())\n",
    "print(k1,k2)\n",
    "for h in range(len(k1)):\n",
    "    print(f\" In the number {s} , {k1[h]} Occurs {k2[h]}  time\")"
   ]
  },
  {
   "cell_type": "code",
   "execution_count": null,
   "id": "c640863e-b095-4737-b768-6534947133c3",
   "metadata": {},
   "outputs": [],
   "source": []
  }
 ],
 "metadata": {
  "kernelspec": {
   "display_name": "Python 3 (ipykernel)",
   "language": "python",
   "name": "python3"
  },
  "language_info": {
   "codemirror_mode": {
    "name": "ipython",
    "version": 3
   },
   "file_extension": ".py",
   "mimetype": "text/x-python",
   "name": "python",
   "nbconvert_exporter": "python",
   "pygments_lexer": "ipython3",
   "version": "3.12.4"
  }
 },
 "nbformat": 4,
 "nbformat_minor": 5
}
