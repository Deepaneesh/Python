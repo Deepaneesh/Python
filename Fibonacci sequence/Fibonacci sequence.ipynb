{
 "cells": [
  {
   "cell_type": "code",
   "execution_count": null,
   "id": "a396dc9c-3480-473e-aeaa-8cf1fa35b463",
   "metadata": {},
   "outputs": [],
   "source": [
    "n=int(input(\"n:\"))\n",
    "k=[0,1]\n",
    "s=0\n",
    "for i in range(n-2):\n",
    "    s=k[i]+k[i+1]\n",
    "    k.append(s)\n",
    "\n",
    "k\n",
    "sum=0\n",
    "for j in k:\n",
    "    sum=sum+j\n",
    "sum\n",
    "print(k,sum,sep=\"\\n\")\n",
    "\n"
   ]
  }
 ],
 "metadata": {
  "kernelspec": {
   "display_name": "Python 3 (ipykernel)",
   "language": "python",
   "name": "python3"
  },
  "language_info": {
   "codemirror_mode": {
    "name": "ipython",
    "version": 3
   },
   "file_extension": ".py",
   "mimetype": "text/x-python",
   "name": "python",
   "nbconvert_exporter": "python",
   "pygments_lexer": "ipython3",
   "version": "3.12.4"
  }
 },
 "nbformat": 4,
 "nbformat_minor": 5
}
