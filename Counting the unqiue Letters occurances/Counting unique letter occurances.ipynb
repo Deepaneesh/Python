{
 "cells": [
  {
   "cell_type": "code",
   "execution_count": 26,
   "id": "be3093b8-a782-404f-8621-99c33e103289",
   "metadata": {},
   "outputs": [
    {
     "name": "stdin",
     "output_type": "stream",
     "text": [
      " Deepaneesh\n"
     ]
    },
    {
     "name": "stdout",
     "output_type": "stream",
     "text": [
      "{'D': 1, 'E': 4, 'P': 1, 'A': 1, 'N': 1, 'S': 1, 'H': 1}\n",
      "['D', 'E', 'P', 'A', 'N', 'S', 'H']\n",
      "the letter D occurs 1 times in Deepaneesh\n",
      "the letter E occurs 4 times in Deepaneesh\n",
      "the letter P occurs 1 times in Deepaneesh\n",
      "the letter A occurs 1 times in Deepaneesh\n",
      "the letter N occurs 1 times in Deepaneesh\n",
      "the letter S occurs 1 times in Deepaneesh\n",
      "the letter H occurs 1 times in Deepaneesh\n"
     ]
    }
   ],
   "source": [
    "name=input()\n",
    "name1=name.upper()\n",
    "l1=list(name1)\n",
    "dic=dict()\n",
    "for i in l1:\n",
    "    if i in dic:\n",
    "        dic[i]+=1\n",
    "    else:\n",
    "        dic[i]=1\n",
    "print(dic)\n",
    "k1=list(dic.keys())\n",
    "k2=list(dic.values())\n",
    "print(k1)\n",
    "for j in range(len(k1)):\n",
    "    print(f\"the letter {k1[j]} occurs {k2[j]} times in {name}\")"
   ]
  },
  {
   "cell_type": "code",
   "execution_count": null,
   "id": "25f84ab5-16de-44e8-9516-4f9b8315b5c1",
   "metadata": {},
   "outputs": [],
   "source": []
  }
 ],
 "metadata": {
  "kernelspec": {
   "display_name": "Python 3 (ipykernel)",
   "language": "python",
   "name": "python3"
  },
  "language_info": {
   "codemirror_mode": {
    "name": "ipython",
    "version": 3
   },
   "file_extension": ".py",
   "mimetype": "text/x-python",
   "name": "python",
   "nbconvert_exporter": "python",
   "pygments_lexer": "ipython3",
   "version": "3.12.4"
  }
 },
 "nbformat": 4,
 "nbformat_minor": 5
}
