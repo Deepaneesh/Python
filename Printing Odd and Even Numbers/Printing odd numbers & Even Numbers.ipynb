{
 "cells": [
  {
   "cell_type": "code",
   "execution_count": null,
   "id": "6017f7d4-9088-420e-bfb0-ea78560703bc",
   "metadata": {},
   "outputs": [],
   "source": [
    "## Printing odd numbers "
   ]
  },
  {
   "cell_type": "code",
   "execution_count": 2,
   "id": "183e955a-57b0-4554-ba07-e79e285f382f",
   "metadata": {},
   "outputs": [
    {
     "name": "stdin",
     "output_type": "stream",
     "text": [
      "number: 12\n"
     ]
    },
    {
     "name": "stdout",
     "output_type": "stream",
     "text": [
      "1 3 5 7 9 11 "
     ]
    }
   ],
   "source": [
    "n=int(input(\"number:\"))\n",
    "for i in range(1,n+1):\n",
    "    if i%2==1:\n",
    "        print(i , end=\" \")"
   ]
  },
  {
   "cell_type": "code",
   "execution_count": null,
   "id": "6a7d0d7d-d6c7-4c93-8307-1f30ed64835a",
   "metadata": {},
   "outputs": [],
   "source": [
    "## Printing Even numbers"
   ]
  },
  {
   "cell_type": "code",
   "execution_count": 20,
   "id": "e8a4a8ee-7f28-4272-a70c-26e6c1adb740",
   "metadata": {},
   "outputs": [
    {
     "name": "stdin",
     "output_type": "stream",
     "text": [
      "number: 10\n"
     ]
    },
    {
     "name": "stdout",
     "output_type": "stream",
     "text": [
      "2 4 6 8 10 "
     ]
    }
   ],
   "source": [
    "n1=int(input(\"number:\"))\n",
    "for i in range(1,n1+1):\n",
    "    if i%2==0:\n",
    "        print(i , end=\" \")"
   ]
  },
  {
   "cell_type": "code",
   "execution_count": null,
   "id": "a8a43e31-f1ea-4890-bc40-062e3383278b",
   "metadata": {},
   "outputs": [],
   "source": [
    "Number=int(input())\n",
    "odd=[]\n",
    "even=[]\n",
    "for i in range(0,number+1):\n",
    "    if i%2==0:\n",
    "        even.append(i)\n",
    "    else:\n",
    "        odd.append(i)\n",
    "print(f\"odd ={odd}"
   ]
  }
 ],
 "metadata": {
  "kernelspec": {
   "display_name": "Python 3 (ipykernel)",
   "language": "python",
   "name": "python3"
  },
  "language_info": {
   "codemirror_mode": {
    "name": "ipython",
    "version": 3
   },
   "file_extension": ".py",
   "mimetype": "text/x-python",
   "name": "python",
   "nbconvert_exporter": "python",
   "pygments_lexer": "ipython3",
   "version": "3.12.4"
  }
 },
 "nbformat": 4,
 "nbformat_minor": 5
}
