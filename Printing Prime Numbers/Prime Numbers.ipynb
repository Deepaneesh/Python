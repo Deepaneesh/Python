{
 "cells": [
  {
   "cell_type": "code",
   "execution_count": 5,
   "id": "ee38a343-8ee4-4703-8829-0a871730170c",
   "metadata": {},
   "outputs": [
    {
     "name": "stdin",
     "output_type": "stream",
     "text": [
      "n: 10\n"
     ]
    },
    {
     "name": "stdout",
     "output_type": "stream",
     "text": [
      "[2, 3, 5, 7]\n",
      "no of prime numbers under 10 is 4\n"
     ]
    }
   ],
   "source": [
    "n=int(input(\"n:\"))\n",
    "set1=set(list(range(2,n+1)))\n",
    "set1\n",
    "set2=set()\n",
    "for i in set1:\n",
    "    for j in range(2,i):\n",
    "        if i%j==0:\n",
    "            set2.add(i)\n",
    "\n",
    "set2\n",
    "k=set1.difference(set2)\n",
    "print(list(k),f\"no of prime numbers under {n} is {len(k)}\",sep=\"\\n\")"
   ]
  },
  {
   "cell_type": "code",
   "execution_count": null,
   "id": "e77c985e-8018-424c-95c0-a6ce6cec2b08",
   "metadata": {},
   "outputs": [],
   "source": []
  }
 ],
 "metadata": {
  "kernelspec": {
   "display_name": "Python 3 (ipykernel)",
   "language": "python",
   "name": "python3"
  },
  "language_info": {
   "codemirror_mode": {
    "name": "ipython",
    "version": 3
   },
   "file_extension": ".py",
   "mimetype": "text/x-python",
   "name": "python",
   "nbconvert_exporter": "python",
   "pygments_lexer": "ipython3",
   "version": "3.12.4"
  }
 },
 "nbformat": 4,
 "nbformat_minor": 5
}
